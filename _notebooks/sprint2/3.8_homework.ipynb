{
 "cells": [
  {
   "cell_type": "markdown",
   "metadata": {},
   "source": [
    "## Popcorn Hack 1 for 3.8\n",
    "Bailey Leeder"
   ]
  },
  {
   "cell_type": "code",
   "execution_count": null,
   "metadata": {},
   "outputs": [],
   "source": [
    "age = float(input(\"How old are you?\" )) # Inputs age\n",
    "has_ticket = input(\"Do you have a ticket? \") # Checks for ticket\n",
    "student = input(\"Are you a student? \") # Checks if they are a student\n",
    "cost = float(input(\"How expensive is the ticket? \")) # Inputs the cost\n",
    "\n",
    "if has_ticket == yes or has_ticket == Yes: # Checks if they have a ticket\n",
    "    if age <= 12: # Sees which discount they get for age\n",
    "        if student == yes or student == Yes: # Checks if they are a student\n",
    "            new_cost = cost * 0.8 * 0.5 # Gives 20% discount for student and 50% for age\n",
    "        elif student == no or student == No:\n",
    "            new_cost = cost * 0.5 # Gives 50% discount for age\n",
    "        else:\n",
    "            print(\"Invalid answer, please type either yes or no or a number.\") # Sends error message if not yes or no\n",
    "    elif age >= 13 and age <= 63:\n",
    "        if student == yes or student == Yes: # Checks if they are a student\n",
    "            new_cost = cost * 0.8 # Gives 20% discount for student\n",
    "        elif student == no or student == No:\n",
    "            new_cost = cost # No discount\n",
    "        else:\n",
    "            print(\"Invalid answer, please type either yes or no or a number.\")\n",
    "    else:\n",
    "        if student == yes or student == Yes:\n",
    "            new_cost = cost * 0.8 * 0.7 # Gives 20% discount for student and 30% for age\n",
    "        elif student == no or student == No:\n",
    "            new_cost = cost * 0.7 # Gives 30% discount for age\n",
    "        else:\n",
    "            print(\"Invalid answer, please type either yes or no or a number.\")\n",
    "    print(\"The ticket will cost you \" + new_cost + \" dollars. Enjoy the movie!\") # Gives the final price in dollars\n",
    "elif has_ticket == no or has_ticket == No:\n",
    "    print(\"You need a ticket to attend.\")\n",
    "else:\n",
    "    print(\"Invalid answer, please type either yes or no or a number.\")"
   ]
  },
  {
   "cell_type": "markdown",
   "metadata": {},
   "source": [
    "## Popcorn Hack 2 for 3.8\n",
    "Bailey Leeder"
   ]
  },
  {
   "cell_type": "code",
   "execution_count": null,
   "metadata": {},
   "outputs": [],
   "source": [
    "try:\n",
    "    num = int(input(\"Enter a number: \"))  # Code that might raise an exception\n",
    "    result = 10 / num  # Could raise ZeroDivisionError if num is 0\n",
    "    print(\"Result:\", result)\n",
    "except ValueError:\n",
    "    print(\"That's not a valid number!\")\n",
    "except ZeroDivisionError:\n",
    "    print(\"You can't divide by zero!\")\n",
    "else:\n",
    "    print(\"Operation was successful!\")\n",
    "    if result % 2 == 0: # Checks for even\n",
    "        print(\"The result is even.\")\n",
    "    else: # If not even it is odd\n",
    "        print(\"The result is odd.\")"
   ]
  },
  {
   "cell_type": "markdown",
   "metadata": {},
   "source": [
    "## Homework Hack for 3.8\n",
    "Bailey Leeder"
   ]
  },
  {
   "cell_type": "code",
   "execution_count": null,
   "metadata": {},
   "outputs": [],
   "source": [
    "while True: # Continues to ask until it is broken by a positive answer being inputted\n",
    "    try:\n",
    "        num = int(input(\"Enter a positive number: \"))  # Code that might raise an exception\n",
    "        result = 1 / num  # Could raise ZeroDivisionError if num is 0\n",
    "        print(\"Result:\", result)\n",
    "    except ValueError:\n",
    "        print(\"That's not a valid number! Try again.\")\n",
    "    except ZeroDivisionError:\n",
    "        print(\"You can't divide by zero! Try again.\")\n",
    "    except result < 0: # Checks if the division yielded a positive number. A positive divided by a positive will always be positive.\n",
    "        print(\"That number wasn't positive! Try again.\")\n",
    "    else:\n",
    "        print(\"Operation was successful!\")\n",
    "        break"
   ]
  }
 ],
 "metadata": {
  "language_info": {
   "name": "python"
  }
 },
 "nbformat": 4,
 "nbformat_minor": 2
}
