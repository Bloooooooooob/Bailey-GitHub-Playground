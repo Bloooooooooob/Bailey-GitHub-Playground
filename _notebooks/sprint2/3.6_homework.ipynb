{
 "cells": [
  {
   "cell_type": "markdown",
   "metadata": {},
   "source": [
    "## Homework Hack for 3.6\n",
    "Bailey Leeder"
   ]
  },
  {
   "cell_type": "code",
   "execution_count": null,
   "metadata": {},
   "outputs": [],
   "source": [
    "num1 = float(input(\"What is your first number? \"))\n",
    "num2 = float(input(\"What is your second number? \"))\n",
    "\n",
    "if num1 == num2:\n",
    "    print(\"The first number \" + num1 + \" is equal to the second number \" + num2)\n",
    "elif num1 > num2:\n",
    "    print(\"The first number \" + num1 + \" is greater than the second number \" + num2)\n",
    "else:\n",
    "    print(\"The first number \" + num1 + \" is less than to the second number \" + num2)"
   ]
  }
 ],
 "metadata": {
  "language_info": {
   "name": "python"
  }
 },
 "nbformat": 4,
 "nbformat_minor": 2
}
