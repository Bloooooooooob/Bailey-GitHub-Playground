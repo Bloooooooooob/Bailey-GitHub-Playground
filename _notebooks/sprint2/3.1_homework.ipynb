{
 "cells": [
  {
   "cell_type": "markdown",
   "metadata": {},
   "source": [
    "## Popcorn Hack for 3.1\n",
    "Bailey Leeder"
   ]
  },
  {
   "cell_type": "code",
   "execution_count": null,
   "metadata": {},
   "outputs": [],
   "source": [
    "name = input(\"What is your name? \")\n",
    "age = input(\"How old are you? \")\n",
    "favorite_class = input(\"What is your favorite class? \")\n",
    "\n",
    "print(\"Your name is \" + name + \", you are \" + age + \" years old, and your favorite class is \" + favorite_class)"
   ]
  },
  {
   "cell_type": "markdown",
   "metadata": {},
   "source": [
    "## Homework Hack for 3.1\n",
    "Bailey Leeder"
   ]
  },
  {
   "cell_type": "code",
   "execution_count": null,
   "metadata": {},
   "outputs": [],
   "source": [
    "var full_name = \"Bailey Leeder\"\n",
    "var age = \"16\"\n",
    "var email = \"Baileyleeder101@gmail.com\"\n",
    "var SSN = \"I'm not telling you my SSN\"\n",
    "\n",
    "var first_name = full_name.slice(0,6)\n",
    "var ID = first_name + ID\n",
    "\n",
    "print(\"Personal Info:\")\n",
    "print(\"-Full name: \" + full_name)\n",
    "print(\"-Age: \" + age)\n",
    "print(\"-Email: \" + email)\n",
    "print(\"-SSN: \" + SSN)\n",
    "print(\"-ID: \" + ID)"
   ]
  }
 ],
 "metadata": {
  "language_info": {
   "name": "python"
  }
 },
 "nbformat": 4,
 "nbformat_minor": 2
}
