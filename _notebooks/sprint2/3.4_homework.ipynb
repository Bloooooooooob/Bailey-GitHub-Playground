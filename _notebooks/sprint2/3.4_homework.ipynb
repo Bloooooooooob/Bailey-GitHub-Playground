{
 "cells": [
  {
   "cell_type": "markdown",
   "metadata": {},
   "source": [
    "## Popcorn Hack for 3.4\n",
    "Bailey Leeder"
   ]
  },
  {
   "cell_type": "code",
   "execution_count": null,
   "metadata": {},
   "outputs": [],
   "source": [
    "string = \"Luke, I am your father\"\n",
    "print(\"String: \" + string)\n",
    "character_count = len(string) # Determines the number of characters in the string\n",
    "print(\"There are \" + character_count \" characters in this string.\") # Tells them the number of characters in the string\n",
    "def vowel_count(input):\n",
    "    vowels = 'aeiouAEIOU' # Checks for every vowel, lowercase and capital\n",
    "    count = 0 # Sets the initial number of vowels to 0\n",
    "    for char in input: # Goes through each character and checks if it's a vowel\n",
    "        if char in vowels:\n",
    "            count += 1\n",
    "    return count\n",
    "print(\"There are \" + vowel_count(string) + \" vowels in this string.\") # Tells the number of vowels"
   ]
  },
  {
   "cell_type": "markdown",
   "metadata": {},
   "source": [
    "## Homework Hack for 3.4\n",
    "Bailey Leeder"
   ]
  },
  {
   "cell_type": "code",
   "execution_count": null,
   "metadata": {},
   "outputs": [],
   "source": [
    "password = input(\"What is your password? \")\n",
    "\n",
    "if len(password) < 8:\n",
    "    print(\"Password is too short. It needs to be at least 8 characters. Your password is only \" + len(password) + \" characters.\")\n",
    "elif len(password) > 20:\n",
    "    print(\"Password is too long. It needs to be at most 20 characters. Your password is \" + len(paif ssword) + \" characters.\")\n",
    "elif password == password.lower() or password == password.upper():\n",
    "    print(\"Password must include both capital and lowercase letters.\")\n",
    "else:\n",
    "    print(password + \" is a good password!\")\n"
   ]
  }
 ],
 "metadata": {
  "language_info": {
   "name": "python"
  }
 },
 "nbformat": 4,
 "nbformat_minor": 2
}
