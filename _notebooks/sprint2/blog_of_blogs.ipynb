{
 "cells": [
  {
   "cell_type": "code",
   "execution_count": null,
   "metadata": {
    "vscode": {
     "languageId": "html"
    }
   },
   "outputs": [],
   "source": [
    "\n",
    "<a href=\"https://annie0523.github.io/anyiwang_2025/2024/10/09/sprint-2_IPYNB_2_.html\">Anyi Wang</a>\n",
    "<br>\n",
    "<a href=\"https://bloooooooooob.github.io/Bailey-GitHub-Playground/blogs/\">Bailey Leeder</a>\n",
    "<br>\n",
    "<a href=\"-\">Travis Callow</a>\n",
    "<br>\n",
    "<a href=\"-\">Leon Fu</a>\n",
    "<br>\n"
   ]
  }
 ],
 "metadata": {
  "language_info": {
   "name": "python"
  }
 },
 "nbformat": 4,
 "nbformat_minor": 2
}
