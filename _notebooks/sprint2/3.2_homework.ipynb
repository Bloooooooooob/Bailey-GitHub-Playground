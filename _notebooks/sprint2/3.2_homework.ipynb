{
 "cells": [
  {
   "cell_type": "markdown",
   "metadata": {},
   "source": [
    "## Popcorn Hack 1 for 3.2\n",
    "Bailey Leeder"
   ]
  },
  {
   "cell_type": "code",
   "execution_count": null,
   "metadata": {},
   "outputs": [],
   "source": [
    "elements = {\n",
    "    \"Alkali Metals\": [\"Sodium\", \"Potassium\", \"Cesium\"],\n",
    "    \"Alkaline Earth Metals\": [\"Beryllium\", \"Barium\", \"Strontium\"],\n",
    "    \"Halogens\": [\"Fluorine\", \"Chlorine\", \"Bromine\"],\n",
    "    \"Noble Gasses\": [\"Helium\", \"Neon\", \"Argon\"]\n",
    "}"
   ]
  },
  {
   "cell_type": "markdown",
   "metadata": {},
   "source": [
    "## Popcorn Hack 3 for 3.2\n",
    "Bailey Leeder"
   ]
  },
  {
   "cell_type": "code",
   "execution_count": null,
   "metadata": {},
   "outputs": [],
   "source": [
    "elements = [\n",
    "    {\n",
    "        \"name\": \"Hydrogen\",\n",
    "        \"atomic_number\": 1,\n",
    "        \"normal_state_of_matter\": \"gas\",\n",
    "        \"average_neutrons\": 0,\n",
    "        \"atomic_mass\": 1.01\n",
    "        \"category\": None\n",
    "        \"reacts\": True\n",
    "    },\n",
    "    {\n",
    "        \"name\": \"Helium\",\n",
    "        \"atomic_number\": 2,\n",
    "        \"normal_state_of_matter\": \"gas\",\n",
    "        \"average_neutrons\": 2,\n",
    "        \"atomic_mass\": 4.00\n",
    "        \"category\": \"Noble Gas\"\n",
    "        \"reacts\": False\n",
    "    },\n",
    "    {\n",
    "        \"name\": \"Palladium\",\n",
    "        \"atomic_number\": 46,\n",
    "        \"normal_state_of_matter\": \"solid\",\n",
    "        \"average_neutrons\": 60,\n",
    "        \"atomic_mass\": 106.42\n",
    "        \"category\": \"Transition Metal\"\n",
    "        \"reacts\": True\n",
    "    }\n",
    "]\n",
    "\n",
    "# Display information about each element\n",
    "for element in elements:\n",
    "    print(f\"Name: {element['name']}\")\n",
    "    print(f\"Atomic Number: {element['atomic_number']}\")\n",
    "    print(f\"Normal State of Matter: {element['normal_state_of_matter']}\")\n",
    "    print(f\"Average Number of Neutrons: {element['average_neutrons']}\")\n",
    "    print(f\"Atomic Mass: {element['atomic_mass']}\")\n",
    "    print(f\"Category: {element['category']}\")\n",
    "    print(f\"Reacts: {element['reacts']}\")\n",
    "\n",
    "# Tuple with the elements in their order by atomic number\n",
    "element_order = (\"Hydrogen\", \"Helium\", \"Palladium\")\n",
    "print(element_order)"
   ]
  }
 ],
 "metadata": {
  "language_info": {
   "name": "python"
  }
 },
 "nbformat": 4,
 "nbformat_minor": 2
}
