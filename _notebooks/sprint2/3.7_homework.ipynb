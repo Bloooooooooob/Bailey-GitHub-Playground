{
 "cells": [
  {
   "cell_type": "markdown",
   "metadata": {},
   "source": [
    "## Homework Hack for 3.7\n",
    "Bailey Leeder"
   ]
  },
  {
   "cell_type": "code",
   "execution_count": null,
   "metadata": {},
   "outputs": [],
   "source": [
    "exam = float(input(\"What did you get on the exam? \"))\n",
    "attendence = float(input(\"What percentage of classes did you attend? \"))\n",
    "\n",
    "if exam >= 60 and attendence >= 60:\n",
    "    print(\"You pass!\")\n",
    "else:\n",
    "    print(\"You failed this class. Better luck next time.\")"
   ]
  },
  {
   "cell_type": "code",
   "execution_count": null,
   "metadata": {},
   "outputs": [],
   "source": [
    "pre_shipping = float(input(\"How much does the item cost base? \"))\n",
    "delivery = input(\"What type of delivery are you getting? \")\n",
    "weight = float(input(\"How much does the object weigh in pounds? \"))\n",
    "\n",
    "if delivery == \"Standard\" or delivery == \"standard\":\n",
    "    if weight < 10:\n",
    "        cost = pre_shipping * 1.1 \n",
    "    else:\n",
    "        cost = pre_shipping * 1.1 * 1.5\n",
    "else:\n",
    "    if weight < 10:\n",
    "        cost = pre_shipping * 1.2 \n",
    "    else:\n",
    "        cost = pre_shipping * 1.2 * 1.5\n",
    "\n",
    "print(\"The cost of your item is \" + cost)"
   ]
  },
  {
   "cell_type": "code",
   "execution_count": null,
   "metadata": {},
   "outputs": [],
   "source": []
  }
 ],
 "metadata": {
  "language_info": {
   "name": "python"
  }
 },
 "nbformat": 4,
 "nbformat_minor": 2
}
