{
 "cells": [
  {
   "cell_type": "markdown",
   "metadata": {},
   "source": [
    "## Popcorn Hack 1 for 3.10\n",
    "Bailey Leeder"
   ]
  },
  {
   "cell_type": "code",
   "execution_count": null,
   "metadata": {},
   "outputs": [],
   "source": [
    "elements = ['hydrogen', 'helium', 'lithium'] # Creates the list of elements\n",
    "elements.append('oxygen') # Appends oxygen\n",
    "print(elements) # Prints all of them: ['hydrogen', 'helium', 'lithium', 'oxygen']"
   ]
  },
  {
   "cell_type": "markdown",
   "metadata": {},
   "source": [
    "## Popcorn Hack 2 for 3.10\n",
    "Bailey Leeder"
   ]
  },
  {
   "cell_type": "code",
   "execution_count": null,
   "metadata": {},
   "outputs": [],
   "source": [
    "elements = ['hydrogen', 'helium', 'lithium'] # Creates the list of elements\n",
    "elements.insert('hydrogen', 'oxygen') # Adds oxygen after hydrogen\n",
    "elements.remove('helium') # Removes helium\n",
    "print(elements) # Prints the new list: ['hydrogen', 'oxygen', 'lithium']"
   ]
  },
  {
   "cell_type": "markdown",
   "metadata": {},
   "source": [
    "## Popcorn Hack 3 for 3.10\n",
    "Bailey Leeder"
   ]
  },
  {
   "cell_type": "code",
   "execution_count": null,
   "metadata": {},
   "outputs": [],
   "source": [
    "elements = ['hydrogen', 'helium', 'lithium'] # Creates the list of elements\n",
    "elements[2] = ('oxygen') # Changes lithium into oxygen\n",
    "print(elements) # Prints the new list: ['hydrogen', 'helium', 'oxygen']"
   ]
  },
  {
   "cell_type": "markdown",
   "metadata": {},
   "source": [
    "## Homework Hack for 3.10\n",
    "Bailey Leeder"
   ]
  },
  {
   "cell_type": "code",
   "execution_count": null,
   "metadata": {},
   "outputs": [],
   "source": [
    "nums = [28, 75, 52, 15, 38, 81, 93]\n",
    "sum_even = 0\n",
    "minimum = 10000\n",
    "maximum = 0\n",
    "for num in nums:\n",
    "    if num % 2 == 0:\n",
    "        sum_even = total + num\n",
    "for num in nums:\n",
    "    if num < minimum:\n",
    "        minimum = num\n",
    "for num in nums:\n",
    "    if num > maximum:\n",
    "        maximum = num\n",
    "print(\"The sum of the even numbers is \" + sum_even)\n",
    "print(\"The minimum value is \" + minimum)\n",
    "print(\"The maximum value is \" + maximum)"
   ]
  }
 ],
 "metadata": {
  "language_info": {
   "name": "python"
  }
 },
 "nbformat": 4,
 "nbformat_minor": 2
}
