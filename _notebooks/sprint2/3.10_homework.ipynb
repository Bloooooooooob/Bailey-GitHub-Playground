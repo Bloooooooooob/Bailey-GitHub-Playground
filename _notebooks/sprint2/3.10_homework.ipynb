{
 "cells": [
  {
   "cell_type": "markdown",
   "metadata": {},
   "source": [
    "## Popcorn Hack 1 for 3.10\n",
    "Bailey Leeder"
   ]
  },
  {
   "cell_type": "code",
   "execution_count": null,
   "metadata": {},
   "outputs": [],
   "source": [
    "elements = ['hydrogen', 'helium', 'lithium'] # Creates the list of elements\n",
    "elements.append('oxygen') # Appends oxygen\n",
    "print(elements) # Prints all of them: ['hydrogen', 'helium', 'lithium', 'oxygen']"
   ]
  },
  {
   "cell_type": "markdown",
   "metadata": {},
   "source": [
    "## Popcorn Hack 2 for 3.10\n",
    "Bailey Leeder"
   ]
  },
  {
   "cell_type": "code",
   "execution_count": null,
   "metadata": {},
   "outputs": [],
   "source": [
    "elements = ['hydrogen', 'helium', 'lithium'] # Creates the list of elements\n",
    "elements.insert('hydrogen', 'oxygen') # Adds oxygen after hydrogen\n",
    "elements.remove('helium') # Removes helium\n",
    "print(elements) # Prints the new list: ['hydrogen', 'oxygen', 'lithium']"
   ]
  },
  {
   "cell_type": "markdown",
   "metadata": {},
   "source": [
    "## Popcorn Hack 3 for 3.10\n",
    "Bailey Leeder"
   ]
  },
  {
   "cell_type": "code",
   "execution_count": null,
   "metadata": {},
   "outputs": [],
   "source": [
    "elements = ['hydrogen', 'helium', 'lithium'] # Creates the list of elements\n",
    "elements[2] = ('oxygen') # Changes lithium into oxygen\n",
    "print(elements) # Prints the new list: ['hydrogen', 'helium', 'oxygen']"
   ]
  },
  {
   "cell_type": "markdown",
   "metadata": {},
   "source": [
    "## Homework Hack for 3.10\n",
    "Bailey Leeder"
   ]
  },
  {
   "cell_type": "code",
   "execution_count": null,
   "metadata": {},
   "outputs": [],
   "source": [
    "nums = [28, 75, 52, 15, 38, 81, 93] # Creates the list\n",
    "sum_even = 0 # Sets the original sum of even to 0\n",
    "minimum = 10000 # Sets the minimum to something very large to begin the comparison\n",
    "maximum = 0 # Sets the maximum to 0 to begin the comparison\n",
    "for num in nums: # Iterates through each number in the list\n",
    "    if num % 2 == 0: # Checks if the number is even\n",
    "        sum_even = sum_even + num # Adds it to the previous sum\n",
    "for num in nums: # Iterates through each number in the list\n",
    "    if num < minimum: # Checks if the number is smaller than the previous minimum\n",
    "        minimum = num # Sets the new minimum to the number\n",
    "for num in nums: # Iterates through each number in the list\n",
    "    if num > maximum: # Checks if the number is larger than the previous maximum\n",
    "        maximum = num # Sets the new maximum to the number\n",
    "print(\"The sum of the even numbers is \" + sum_even) # Prints the sum of the even numbers\n",
    "print(\"The minimum value is \" + minimum) # Prints the minimum value\n",
    "print(\"The maximum value is \" + maximum) # Prints the maximum value"
   ]
  }
 ],
 "metadata": {
  "language_info": {
   "name": "python"
  }
 },
 "nbformat": 4,
 "nbformat_minor": 2
}
