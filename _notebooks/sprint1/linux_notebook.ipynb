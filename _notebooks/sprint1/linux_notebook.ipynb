{
 "cells": [
  {
   "cell_type": "code",
   "execution_count": null,
   "metadata": {},
   "outputs": [],
   "source": [
    "Linux Notebook\n",
    "\n",
    "File/Directory Commands\n",
    "cat\n",
    "Lists out the contents in a file\n",
    "echo\n",
    "Makes file/repeats what you say\n",
    "cd\n",
    "Changes directory you are in\n",
    "ls\n",
    "Lists all of the files in a directory\n",
    "mkdir\n",
    "Creates a directory\n",
    "rm\n",
    "Removes files\n",
    "vim\n",
    "Edits file\n",
    "nano\n",
    "Edits file\n",
    "gedit\n",
    "Edits file\n",
    "Important Commands\n",
    "apt update\n",
    "Updates all applications(run this before upgrade)\n",
    "apt upgrade\n",
    "Finishes updating all applications(run this after update)\n",
    "apt install\n",
    "Installs applications\n",
    "apt remove\n",
    "Removes applications\n",
    "apt-get --purge remove\n",
    "Removes packages\n",
    "sudo su\n",
    "Puts you into superuser mode so you don't have to type sudo anymore\n",
    "sudo\n",
    "Lets you do any task in the terminal\n",
    "RM\n",
    "Removes files\n",
    "Github Commands/Setup\n",
    "git clone\n",
    "Clones repository for you to use\n",
    "git config\n",
    "Adds your user info\n",
    "bundle install\n",
    "Installs gems\n",
    "make\n",
    "starts up local server for website repository on github"
   ]
  },
  {
   "cell_type": "markdown",
   "metadata": {},
   "source": [
    "---\n",
    "layout: page\n",
    "title: Covalent Compounds\n",
    "permalink: /notebooks/linux_notebook/\n",
    "---"
   ]
  }
 ],
 "metadata": {
  "language_info": {
   "name": "python"
  }
 },
 "nbformat": 4,
 "nbformat_minor": 2
}
